{
 "cells": [
  {
   "cell_type": "code",
   "execution_count": 1,
   "id": "64fa1818",
   "metadata": {},
   "outputs": [
    {
     "name": "stdout",
     "output_type": "stream",
     "text": [
      "['CSC100', 'CSC200', 'CSC300']\n"
     ]
    }
   ],
   "source": [
    "def find_order(courses):\n",
    "    # build the graph\n",
    "    graph = {}\n",
    "    for course in courses:\n",
    "        graph[course] = set(courses[course])\n",
    "    # find the nodes with no dependencies\n",
    "    roots = [node for node in graph if not graph[node]]\n",
    "    # perform topological sorting\n",
    "    order = []\n",
    "    while roots:\n",
    "        node = roots.pop()\n",
    "        order.append(node)\n",
    "        # remove the node and its edges\n",
    "        for course in graph:\n",
    "            if node in graph[course]:\n",
    "                graph[course].remove(node)\n",
    "                if not graph[course]:\n",
    "                    roots.append(course)\n",
    "    # check for cycle\n",
    "    if len(order) != len(courses):\n",
    "        return None\n",
    "    return order\n",
    "\n",
    "# example usage\n",
    "courses = {'CSC300': ['CSC100', 'CSC200'], 'CSC200': ['CSC100'], 'CSC100': []}\n",
    "print(find_order(courses)) # output: ['CSC100', 'CSC200', 'CSC300']\n"
   ]
  },
  {
   "cell_type": "code",
   "execution_count": 2,
   "id": "73910236",
   "metadata": {},
   "outputs": [
    {
     "name": "stdout",
     "output_type": "stream",
     "text": [
      "['CSC100', 'CSC200', 'CSC300']\n"
     ]
    }
   ],
   "source": [
    "def sortCourseId(courseId):\n",
    "    # new array\n",
    "    a = []\n",
    "    # create list of tuples from dict\n",
    "    for k in courseId:\n",
    "        v = k, len(courseId[k])\n",
    "        a.append(v)\n",
    "    b=[i[0] for i in sorted(a,key=lambda x:x[1])]\n",
    "    # sort by second item in tuple\n",
    "#     a.sort(key=lambda x: x[1])\n",
    "    # reduce to single items\n",
    "#     b = [b[0] for b in a]\n",
    "    return b\n",
    "courseId = {'CSC300': ['CSC100','CSC200'], 'CSC200': ['CSC100'], 'CSC100': []}\n",
    "result = sortCourseId(courseId)\n",
    "print(result)\n"
   ]
  },
  {
   "cell_type": "code",
   "execution_count": null,
   "id": "e6e0001c",
   "metadata": {},
   "outputs": [],
   "source": []
  }
 ],
 "metadata": {
  "kernelspec": {
   "display_name": "Python 3",
   "language": "python",
   "name": "python3"
  },
  "language_info": {
   "codemirror_mode": {
    "name": "ipython",
    "version": 3
   },
   "file_extension": ".py",
   "mimetype": "text/x-python",
   "name": "python",
   "nbconvert_exporter": "python",
   "pygments_lexer": "ipython3",
   "version": "3.6.15"
  }
 },
 "nbformat": 4,
 "nbformat_minor": 5
}
