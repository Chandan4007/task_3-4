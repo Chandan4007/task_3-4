{
 "cells": [
  {
   "cell_type": "code",
   "execution_count": 1,
   "id": "910ef806",
   "metadata": {},
   "outputs": [
    {
     "name": "stdout",
     "output_type": "stream",
     "text": [
      "True\n",
      "True\n",
      "False\n"
     ]
    }
   ],
   "source": [
    "def find_word(matrix, word):\n",
    "    n_rows = len(matrix)\n",
    "    n_cols = len(matrix[0])\n",
    "    \n",
    "    # Check each cell in the matrix\n",
    "    for i in range(n_rows):\n",
    "        for j in range(n_cols):\n",
    "            if matrix[i][j] == word[0]:\n",
    "                # Check if the remaining characters are in the same row\n",
    "                if j+len(word) <= n_cols and word == ''.join(matrix[i][j:j+len(word)]):\n",
    "                    return True\n",
    "                # Check if the remaining characters are in the same column\n",
    "                if i+len(word) <= n_rows and word == ''.join([matrix[x][j] for x in range(i,i+len(word))]):\n",
    "                    return True\n",
    "    \n",
    "    # If the word was not found, return False\n",
    "    return False\n",
    "matrix = [['F', 'A', 'C', 'I'],\n",
    "          ['O', 'B', 'Q', 'P'],\n",
    "          ['A', 'N', 'O', 'B'],\n",
    "          ['M', 'A', 'S', 'S']]\n",
    "\n",
    "print(find_word(matrix, 'FOAM'))  # True\n",
    "print(find_word(matrix, 'MASS'))  # True\n",
    "print(find_word(matrix, 'NOOB'))  # False\n",
    "\n"
   ]
  },
  {
   "cell_type": "code",
   "execution_count": null,
   "id": "e4234c69",
   "metadata": {},
   "outputs": [],
   "source": []
  }
 ],
 "metadata": {
  "kernelspec": {
   "display_name": "Python 3",
   "language": "python",
   "name": "python3"
  },
  "language_info": {
   "codemirror_mode": {
    "name": "ipython",
    "version": 3
   },
   "file_extension": ".py",
   "mimetype": "text/x-python",
   "name": "python",
   "nbconvert_exporter": "python",
   "pygments_lexer": "ipython3",
   "version": "3.6.15"
  }
 },
 "nbformat": 4,
 "nbformat_minor": 5
}
